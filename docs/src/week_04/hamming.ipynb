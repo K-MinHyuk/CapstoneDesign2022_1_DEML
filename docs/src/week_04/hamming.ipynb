{
 "cells": [
  {
   "cell_type": "code",
   "execution_count": 1,
   "id": "32cf42ca-f78b-430c-86a1-60c897cee4cd",
   "metadata": {},
   "outputs": [],
   "source": [
    "import torch\n",
    "import numpy as np"
   ]
  },
  {
   "cell_type": "code",
   "execution_count": 2,
   "id": "11a0f5ed-b4ea-4df9-a110-645af53df68b",
   "metadata": {},
   "outputs": [],
   "source": [
    "def i2b(A):\n",
    "    return torch.tensor(list(map(lambda x : list([int(z) for z in '{0:>04b}'.format(x)]), A)))\n",
    "\n",
    "def encode(U, G):\n",
    "    return torch.matmul(Uhg, G)%2\n",
    "\n",
    "def mod_bpsk(C):\n",
    "    X = -(2*C-1)\n",
    "    return X\n",
    "\n",
    "def awgn(X, SNR):\n",
    "    Z = torch.randn((X.shape[0], 7))/np.sqrt(SNR)\n",
    "    Y = X + Z\n",
    "    return Y\n",
    "\n",
    "def decode_ml(y, CB):\n",
    "    indx = torch.argmin((torch.abs(Y.unsqueeze(1) - CB)**2).sum(axis=2), dim=1)\n",
    "    U_hat = CB[indx]\n",
    "    return U_hat"
   ]
  },
  {
   "cell_type": "code",
   "execution_count": 4,
   "id": "06c5fd30-6937-4430-a28f-c37a4a9b4eef",
   "metadata": {},
   "outputs": [],
   "source": [
    "G = torch.tensor([[1, 0, 0, 0, 1, 1, 0],\n",
    "                  [0, 1, 0, 0, 1, 0, 1],\n",
    "                  [0, 0, 1, 0, 0, 1, 1],\n",
    "                  [0, 0, 0, 1, 1, 1, 1]])\n",
    "\n",
    "H = torch.tensor([[1, 1, 0, 1, 1, 0, 0],\n",
    "                  [1, 0, 1, 1, 0, 1, 0],\n",
    "                  [0, 1, 1, 1, 0, 0, 1]])\n",
    "\n",
    "i = torch.arange(0,16)\n",
    "I = i2b(i)\n",
    "\n",
    "CB = mod_bpsk(torch.matmul(I, G)%2)"
   ]
  },
  {
   "cell_type": "code",
   "execution_count": 5,
   "id": "29ede04b-99e2-4b18-93c6-4555b6db872f",
   "metadata": {},
   "outputs": [
    {
     "data": {
      "text/plain": [
       "(tensor([[0, 0, 0, 0],\n",
       "         [0, 0, 0, 1],\n",
       "         [0, 0, 1, 0],\n",
       "         [0, 0, 1, 1],\n",
       "         [0, 1, 0, 0],\n",
       "         [0, 1, 0, 1],\n",
       "         [0, 1, 1, 0],\n",
       "         [0, 1, 1, 1],\n",
       "         [1, 0, 0, 0],\n",
       "         [1, 0, 0, 1],\n",
       "         [1, 0, 1, 0],\n",
       "         [1, 0, 1, 1],\n",
       "         [1, 1, 0, 0],\n",
       "         [1, 1, 0, 1],\n",
       "         [1, 1, 1, 0],\n",
       "         [1, 1, 1, 1]]),\n",
       " tensor([[ 1,  1,  1,  1,  1,  1,  1],\n",
       "         [ 1,  1,  1, -1, -1, -1, -1],\n",
       "         [ 1,  1, -1,  1,  1, -1, -1],\n",
       "         [ 1,  1, -1, -1, -1,  1,  1],\n",
       "         [ 1, -1,  1,  1, -1,  1, -1],\n",
       "         [ 1, -1,  1, -1,  1, -1,  1],\n",
       "         [ 1, -1, -1,  1, -1, -1,  1],\n",
       "         [ 1, -1, -1, -1,  1,  1, -1],\n",
       "         [-1,  1,  1,  1, -1, -1,  1],\n",
       "         [-1,  1,  1, -1,  1,  1, -1],\n",
       "         [-1,  1, -1,  1, -1,  1, -1],\n",
       "         [-1,  1, -1, -1,  1, -1,  1],\n",
       "         [-1, -1,  1,  1,  1, -1, -1],\n",
       "         [-1, -1,  1, -1, -1,  1,  1],\n",
       "         [-1, -1, -1,  1,  1,  1,  1],\n",
       "         [-1, -1, -1, -1, -1, -1, -1]]))"
      ]
     },
     "execution_count": 5,
     "metadata": {},
     "output_type": "execute_result"
    }
   ],
   "source": [
    "I, CB"
   ]
  },
  {
   "cell_type": "code",
   "execution_count": 6,
   "id": "c13df567-a155-44bb-b08b-dbfb81a9d7c5",
   "metadata": {},
   "outputs": [
    {
     "data": {
      "text/plain": [
       "(tensor([ 1, 11,  1,  ..., 15, 13,  6]),\n",
       " tensor([[0, 0, 0, 1],\n",
       "         [1, 0, 1, 1],\n",
       "         [0, 0, 0, 1],\n",
       "         ...,\n",
       "         [1, 1, 1, 1],\n",
       "         [1, 1, 0, 1],\n",
       "         [0, 1, 1, 0]]))"
      ]
     },
     "execution_count": 6,
     "metadata": {},
     "output_type": "execute_result"
    }
   ],
   "source": [
    "u = torch.randint(0, 16, (10000,))\n",
    "U = i2b(u)\n",
    "u, U"
   ]
  },
  {
   "cell_type": "code",
   "execution_count": 7,
   "id": "7fcf2622-2c40-4378-b5ca-cdf4e4f45526",
   "metadata": {},
   "outputs": [
    {
     "data": {
      "text/plain": [
       "(tensor([[0, 0, 0,  ..., 1, 1, 1],\n",
       "         [1, 0, 1,  ..., 0, 1, 0],\n",
       "         [0, 0, 0,  ..., 1, 1, 1],\n",
       "         ...,\n",
       "         [1, 1, 1,  ..., 1, 1, 1],\n",
       "         [1, 1, 0,  ..., 1, 0, 0],\n",
       "         [0, 1, 1,  ..., 1, 1, 0]]),\n",
       " torch.Size([10000, 7]))"
      ]
     },
     "execution_count": 7,
     "metadata": {},
     "output_type": "execute_result"
    }
   ],
   "source": [
    "(C := encode(U, G), C.shape)"
   ]
  },
  {
   "cell_type": "code",
   "execution_count": 8,
   "id": "1ac05d2a-7138-48f6-aad8-978258c8fd7e",
   "metadata": {},
   "outputs": [
    {
     "data": {
      "text/plain": [
       "(tensor([[ 1,  1,  1,  ..., -1, -1, -1],\n",
       "         [-1,  1, -1,  ...,  1, -1,  1],\n",
       "         [ 1,  1,  1,  ..., -1, -1, -1],\n",
       "         ...,\n",
       "         [-1, -1, -1,  ..., -1, -1, -1],\n",
       "         [-1, -1,  1,  ..., -1,  1,  1],\n",
       "         [ 1, -1, -1,  ..., -1, -1,  1]]),\n",
       " torch.Size([10000, 7]))"
      ]
     },
     "execution_count": 8,
     "metadata": {},
     "output_type": "execute_result"
    }
   ],
   "source": [
    "(X := mod_bpsk(C), X.shape)"
   ]
  },
  {
   "cell_type": "code",
   "execution_count": null,
   "id": "ab1798e7-299a-4651-a939-7b6ae017b01b",
   "metadata": {},
   "outputs": [],
   "source": []
  },
  {
   "cell_type": "code",
   "execution_count": 9,
   "id": "9cf84aa3-9162-4ead-a3cf-b6e140e8703f",
   "metadata": {},
   "outputs": [
    {
     "data": {
      "text/plain": [
       "(tensor([[ 0.5567,  0.1186,  3.7129,  ..., -1.9041,  0.5170, -3.2673],\n",
       "         [-1.3063,  0.2938, -0.1889,  ...,  1.6802, -0.8313,  3.0304],\n",
       "         [ 1.1673,  3.0264,  0.0542,  ..., -1.4620, -3.5965, -1.0669],\n",
       "         ...,\n",
       "         [-0.2274, -2.0577, -0.7597,  ..., -0.1960, -1.2832, -0.9709],\n",
       "         [-2.2854, -3.8564,  1.4052,  ..., -2.1198,  2.4428,  3.2940],\n",
       "         [-0.0660, -0.0061, -1.2148,  ...,  0.4069,  0.2509,  1.0553]]),\n",
       " torch.Size([10000, 7]))"
      ]
     },
     "execution_count": 9,
     "metadata": {},
     "output_type": "execute_result"
    }
   ],
   "source": [
    "(Y := awgn(X, 0.5), Y.shape)"
   ]
  },
  {
   "cell_type": "code",
   "execution_count": 10,
   "id": "10f25403-3ac2-41e4-8b9c-02661df8e689",
   "metadata": {},
   "outputs": [
    {
     "data": {
      "text/plain": [
       "(tensor([[ 1,  1,  1,  ..., -1, -1, -1],\n",
       "         [-1,  1, -1,  ...,  1, -1,  1],\n",
       "         [ 1,  1,  1,  ..., -1, -1, -1],\n",
       "         ...,\n",
       "         [-1, -1, -1,  ..., -1, -1, -1],\n",
       "         [-1, -1,  1,  ..., -1,  1,  1],\n",
       "         [-1,  1, -1,  ...,  1, -1,  1]]),\n",
       " torch.Size([10000, 7]))"
      ]
     },
     "execution_count": 10,
     "metadata": {},
     "output_type": "execute_result"
    }
   ],
   "source": [
    "(U_hat := decode_ml(Y,CB), U_hat.shape)"
   ]
  },
  {
   "cell_type": "code",
   "execution_count": 11,
   "id": "89842826-ece3-4397-8946-edc34967bc4b",
   "metadata": {},
   "outputs": [
    {
     "data": {
      "text/plain": [
       "tensor(0.2206)"
      ]
     },
     "execution_count": 11,
     "metadata": {},
     "output_type": "execute_result"
    }
   ],
   "source": [
    "(X != U_hat).sum()/(10000*7)"
   ]
  }
 ],
 "metadata": {
  "kernelspec": {
   "display_name": "Python 3 (ipykernel)",
   "language": "python",
   "name": "python3"
  },
  "language_info": {
   "codemirror_mode": {
    "name": "ipython",
    "version": 3
   },
   "file_extension": ".py",
   "mimetype": "text/x-python",
   "name": "python",
   "nbconvert_exporter": "python",
   "pygments_lexer": "ipython3",
   "version": "3.9.7"
  }
 },
 "nbformat": 4,
 "nbformat_minor": 5
}
