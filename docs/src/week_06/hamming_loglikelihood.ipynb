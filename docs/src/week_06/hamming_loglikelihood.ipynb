{
 "cells": [
  {
   "cell_type": "code",
   "execution_count": 1,
   "id": "32cf42ca-f78b-430c-86a1-60c897cee4cd",
   "metadata": {},
   "outputs": [],
   "source": [
    "import torch\n",
    "import numpy as np\n",
    "from itertools import product\n",
    "import matplotlib.pyplot as plt\n",
    "from tqdm.auto import tqdm"
   ]
  },
  {
   "cell_type": "code",
   "execution_count": 2,
   "id": "54cb9e70-693e-4f80-aaf8-6ec601113d9c",
   "metadata": {},
   "outputs": [],
   "source": [
    "device = torch.device('cuda' if torch.cuda.is_available() else 'cpu')"
   ]
  },
  {
   "cell_type": "code",
   "execution_count": 3,
   "id": "9cbbf48d-1e33-4af8-8a93-95c1e3a9239b",
   "metadata": {
    "tags": []
   },
   "outputs": [],
   "source": [
    "device = torch.device('cuda' if torch.cuda.is_available() else 'cpu')\n",
    "rate = 4/7\n",
    "EsdB_list = torch.arange(-2, 10, 0.5)\n",
    "# EsdB_list = torch.tensor([10])\n",
    "\n",
    "snr_list = 10.0**(EsdB_list/10.0)\n",
    "EbNo_list = snr_list/rate/2\n",
    "EbNodB_list = 10*np.log10(EbNo_list)"
   ]
  },
  {
   "cell_type": "code",
   "execution_count": 4,
   "id": "72e3d564-228b-49ef-a990-79a7da7b24b1",
   "metadata": {},
   "outputs": [],
   "source": [
    "def i2b(integer, length=4):\n",
    "    return torch.tensor(list(map(lambda x : [int(z) for z in format(x, '0{}b'.format(length))], integer)))\n",
    "\n",
    "def encode(U, G):\n",
    "    return torch.fmod(torch.mm(U, G), 2).to(device)\n",
    "\n",
    "def mod_bpsk(C):\n",
    "    X = -(2.0*C-1.0)\n",
    "    return X\n",
    "\n",
    "def awgn(X, SNR):\n",
    "    Z = (torch.randn((X.shape[0], X.shape[1]))/np.sqrt(SNR)).to(device)\n",
    "    Y = X + Z\n",
    "    return Y\n",
    "\n",
    "def decode_ml(Y, CB):\n",
    "    indx = torch.argmin((torch.abs(Y.unsqueeze(1) - CB)**2).sum(axis=2), dim=1)\n",
    "    U_hat = CB[indx]\n",
    "    return U_hat\n",
    "\n",
    "def decode_hard(Y):\n",
    "    Y = (Y > 0).type(torch.float)\n",
    "    Y[Y == 0] = -1.0\n",
    "    return Y"
   ]
  },
  {
   "cell_type": "code",
   "execution_count": 5,
   "id": "f7249415-fd8c-48d2-b878-08d2a3fe20a3",
   "metadata": {},
   "outputs": [],
   "source": [
    "G = torch.tensor([[1.0, 0.0, 0.0, 0.0, 1.0, 1.0, 0.0],\n",
    "                  [0.0, 1.0, 0.0, 0.0, 1.0, 0.0, 1.0],\n",
    "                  [0.0, 0.0, 1.0, 0.0, 0.0, 1.0, 1.0],\n",
    "                  [0.0, 0.0, 0.0, 1.0, 1.0, 1.0, 1.0]])\n",
    "\n",
    "H = torch.tensor([[1.0, 1.0, 0.0, 1.0, 1.0, 0.0, 0.0],\n",
    "                  [1.0, 0.0, 1.0, 1.0, 0.0, 1.0, 0.0],\n",
    "                  [0.0, 1.0, 1.0, 1.0, 0.0, 0.0, 1.0]])\n",
    "\n",
    "i = torch.arange(0,16)\n",
    "I = i2b(i, 4).type(torch.float)\n",
    "CB = mod_bpsk(encode(I, G))\n"
   ]
  },
  {
   "cell_type": "code",
   "execution_count": 6,
   "id": "67206ea4-58e3-472e-9835-8767c47450e5",
   "metadata": {},
   "outputs": [],
   "source": [
    "I, CB = I.to(device), CB.to(device)\n",
    "G, H = G.to(device), H.to(device)\n",
    "\n"
   ]
  },
  {
   "cell_type": "code",
   "execution_count": 7,
   "id": "4301fab8-c45d-4530-89e6-6687849785e7",
   "metadata": {},
   "outputs": [],
   "source": [
    "u = torch.randint(0, 16, (1000000,))\n",
    "U = i2b(u).type(torch.float)\n",
    "U = U.to(device)"
   ]
  },
  {
   "cell_type": "code",
   "execution_count": 8,
   "id": "7283199e-8649-42ab-9793-18a3b07a61be",
   "metadata": {},
   "outputs": [
    {
     "data": {
      "text/plain": [
       "torch.Size([1000000, 4])"
      ]
     },
     "execution_count": 8,
     "metadata": {},
     "output_type": "execute_result"
    }
   ],
   "source": [
    "U.shape"
   ]
  },
  {
   "cell_type": "code",
   "execution_count": 9,
   "id": "d88d6ca8-10b9-4ec9-bd9f-6e2f414b19bc",
   "metadata": {},
   "outputs": [],
   "source": [
    "def atanh(x, eps):   \n",
    "    clamp = 1-eps\n",
    "    return torch.atanh(torch.clamp(x, min=-clamp, max=clamp))\n"
   ]
  },
  {
   "cell_type": "code",
   "execution_count": 10,
   "id": "e9e47d71-6396-4e6b-9c14-74b5f466614e",
   "metadata": {},
   "outputs": [],
   "source": [
    "class Sum_p():\n",
    "    def __init__(self, Parity_check_matrix, U, SNR):\n",
    "        self.U = U\n",
    "        self.pcm = Parity_check_matrix\n",
    "        self.num_F = Parity_check_matrix.shape[0]\n",
    "        self.num_X = Parity_check_matrix.shape[1]\n",
    "        self.Xlist = [Node_X(self.pcm[:,i], self.U[:,i], SNR, i) for i in range(self.num_X)]\n",
    "        self.Flist = [Node_func(self.pcm[i], self.U) for i in range(self.num_F)]\n",
    "\n",
    "       \n",
    "    def Iter(self, num):\n",
    "        # init\n",
    "        f2x = torch.zeros(self.num_F, self.num_X, self.U.shape[0], 1).to(device)\n",
    "        x2f = torch.zeros((self.num_X, self.num_F, self.U.shape[0], 1)).to(device)\n",
    "        U_hat = torch.empty((self.U.shape[0], self.num_X)).to(device)\n",
    "            \n",
    "        # 업데이트\n",
    "        for i in range(num):\n",
    "            for n, x in enumerate(self.Xlist):\n",
    "                x2f[n] = x.update_x2f(f2x[:, n, :], i)\n",
    "            for n, f in enumerate(self.Flist):\n",
    "                f2x[n] = f.update_f2x(x2f[:, n, :])\n",
    "\n",
    "        # U_hat\n",
    "        for n, x in enumerate(self.Xlist):\n",
    "            U_hat[:, n] = x.est_U(f2x[:, n, :])\n",
    "            \n",
    "        return U_hat\n",
    "    \n",
    "    \n",
    "##############\n",
    "# Node_func:\n",
    "#\n",
    "##############\n",
    "\n",
    "class Node_func():\n",
    "    def __init__(self, vec, U):\n",
    "        self.X_index = torch.where(vec == 1)[0]\n",
    "        self.f2x = torch.zeros((vec.shape[0], U.shape[0], 1)).to(device)\n",
    "    \n",
    "    def update_f2x(self, X):\n",
    "        x2f = torch.tanh(((X[self.X_index])/2))\n",
    "        x2f = 2*atanh(x2f.prod(dim=0)/x2f, 1e-4)\n",
    "\n",
    "        self.f2x[self.X_index] = x2f\n",
    "        return self.f2x\n",
    "        \n",
    "\n",
    "##############\n",
    "# Node_X:\n",
    "#\n",
    "##############\n",
    "\n",
    "class Node_X():\n",
    "    def __init__(self, pcm, U, SNR, i):\n",
    "        self.i = i\n",
    "        self.F_index = torch.where(pcm == 1)[0]\n",
    "        self.F_num = self.F_index.shape[0]\n",
    "        self.xi = torch.tensor([1, -1]).to(device) \n",
    "        self.p = self.get_p(U, SNR).to(device)\n",
    "        self.x2f = torch.zeros(pcm.shape[0], self.p.shape[0], 1).to(device)\n",
    "    \n",
    "    def get_p(self, U, SNR):\n",
    "        u = U.reshape(-1, 1)\n",
    "        p = torch.exp(-1*((torch.abs(u-self.xi)**2)/2)*SNR)\n",
    "        p = torch.log(p[:, 0]/p[:, 1]).reshape(-1, 1)\n",
    "        return p\n",
    "    \n",
    "    def update_x2f(self, F, i):\n",
    "        f = F[self.F_index]\n",
    "        f = (f.sum(dim=0).unsqueeze(0)-f) + self.p\n",
    "        self.x2f[self.F_index] = f\n",
    "        return self.x2f\n",
    "    \n",
    "    def est_U(self, F):\n",
    "        f = F[self.F_index]\n",
    "        f = (f.sum(dim=0).unsqueeze(0))\n",
    "        tf = (f < 0).squeeze()\n",
    "        out = torch.ones(tf.shape[0])\n",
    "        out[tf] = -1\n",
    "        return out"
   ]
  },
  {
   "cell_type": "code",
   "execution_count": 11,
   "id": "cd7c5ee0-958c-4902-991d-e7bf6720b38a",
   "metadata": {
    "tags": []
   },
   "outputs": [
    {
     "data": {
      "application/vnd.jupyter.widget-view+json": {
       "model_id": "e8fceb60151b42e0b0ff4937f582639f",
       "version_major": 2,
       "version_minor": 0
      },
      "text/plain": [
       "  0%|          | 0/24 [00:00<?, ?it/s]"
      ]
     },
     "metadata": {},
     "output_type": "display_data"
    },
    {
     "name": "stdout",
     "output_type": "stream",
     "text": [
      "\n",
      "SNR : tensor(0.6310)\n",
      "\n",
      "SNR : tensor(0.7079)\n",
      "\n",
      "SNR : tensor(0.7943)\n",
      "\n",
      "SNR : tensor(0.8913)\n",
      "\n",
      "SNR : tensor(1.)\n",
      "\n",
      "SNR : tensor(1.1220)\n",
      "\n",
      "SNR : tensor(1.2589)\n",
      "\n",
      "SNR : tensor(1.4125)\n",
      "\n",
      "SNR : tensor(1.5849)\n",
      "\n",
      "SNR : tensor(1.7783)\n",
      "\n",
      "SNR : tensor(1.9953)\n",
      "\n",
      "SNR : tensor(2.2387)\n",
      "\n",
      "SNR : tensor(2.5119)\n",
      "\n",
      "SNR : tensor(2.8184)\n",
      "\n",
      "SNR : tensor(3.1623)\n",
      "\n",
      "SNR : tensor(3.5481)\n",
      "\n",
      "SNR : tensor(3.9811)\n",
      "\n",
      "SNR : tensor(4.4668)\n",
      "\n",
      "SNR : tensor(5.0119)\n",
      "\n",
      "SNR : tensor(5.6234)\n",
      "\n",
      "SNR : tensor(6.3096)\n",
      "\n",
      "SNR : tensor(7.0795)\n",
      "\n",
      "SNR : tensor(7.9433)\n",
      "\n",
      "SNR : tensor(8.9125)\n"
     ]
    }
   ],
   "source": [
    "db = []\n",
    "ber = []\n",
    "\n",
    "for SNR in tqdm(snr_list):\n",
    "    print('\\nSNR :', SNR)\n",
    "    C = encode(U, G).to(device)\n",
    "    X = mod_bpsk(C).to(device)    \n",
    "    Y = awgn(X, SNR).to(device)\n",
    "    Sum = Sum_p(H, Y, SNR)\n",
    "    \n",
    "    U_hat = Sum.Iter(10)\n",
    "    er = (X != U_hat).sum()/(U_hat.shape[0]*U_hat.shape[1])\n",
    "    ber.append(er.detach().cpu().numpy())\n"
   ]
  },
  {
   "cell_type": "code",
   "execution_count": 12,
   "id": "868cf038-bea5-4625-82e8-e470528cc532",
   "metadata": {},
   "outputs": [
    {
     "data": {
      "image/png": "[encoded data removed]",
      "text/plain": [
       "<Figure size 648x1080 with 1 Axes>"
      ]
     },
     "metadata": {
      "needs_background": "light"
     },
     "output_type": "display_data"
    }
   ],
   "source": [
    "shannon_lim = 10.0*np.log10(2.0**(2*rate)-1)\n",
    "norm_shannon_lim = 10.0*np.log10((2.0**(2*rate)-1)*rate/2)\n",
    "\n",
    "plt.figure(figsize=(9,15))\n",
    "plt.semilogy(EbNodB_list, ber)\n",
    "plt.semilogy([shannon_lim, shannon_lim], [1e-4,1e-3])\n",
    "plt.legend(['BER_ml','Shannon Limit'])\n",
    "plt.xlabel('EbNo')\n",
    "plt.ylabel('BER')\n",
    "plt.grid()\n",
    "plt.savefig('output.png')"
   ]
  }
 ],
 "metadata": {
  "kernelspec": {
   "display_name": "Python 3 (ipykernel)",
   "language": "python",
   "name": "python3"
  },
  "language_info": {
   "codemirror_mode": {
    "name": "ipython",
    "version": 3
   },
   "file_extension": ".py",
   "mimetype": "text/x-python",
   "name": "python",
   "nbconvert_exporter": "python",
   "pygments_lexer": "ipython3",
   "version": "3.9.7"
  }
 },
 "nbformat": 4,
 "nbformat_minor": 5
}
